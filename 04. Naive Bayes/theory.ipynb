{
 "cells": [
  {
   "cell_type": "code",
   "execution_count": 1,
   "metadata": {},
   "outputs": [],
   "source": [
    "import numpy as np\n",
    "import pandas as pd"
   ]
  },
  {
   "attachments": {},
   "cell_type": "markdown",
   "metadata": {},
   "source": [
    "목표 : $ \\ P(Y|X_1,X_2,X_3...X_p) $의 maximize\n",
    "#### $ \\ P(Y|X_1,X_2,X_3...X_p) = \\frac{{P(X_1,X_2,...X_p|Y) \\cdot P(Y) }}{{P(X_1,X_2,...X_p)}} \\ $"
   ]
  },
  {
   "attachments": {},
   "cell_type": "markdown",
   "metadata": {},
   "source": [
    "분모는 이미 알고있는 상수, 목표는 분자의 maximize\n",
    "\n",
    "${P(X_1,X_2,...X_p|Y) \\cdot P(Y)}$\n",
    "\n",
    "chain rule 사용 -> \n",
    "$P(X_1,X_2,...X_p|Y)= \\frac {P(X_1,X_2,...X_p,Y)}{P(X_2,X_3...X_p,Y)} \\cdot \\frac {P(X_2,X_3...X_p,Y)}{P(Y)} \\cdot P(Y)=\n",
    "P(X_1|X_2,X_3..X_p,Y) \\cdot P(X_2,X_3...X_p|Y) \\cdot P(Y)\n",
    "$\n",
    "\n",
    "위 과정을 계속 하면 다음과 같은 식을 얻음\n",
    "\n",
    "${P(X_1|X_2,...X_p,Y) \\cdot P(X_2|X_3,...X_p,Y) \\cdot P(X_3|X_4,...X_p,Y)  \\cdot P(y)}$"
   ]
  },
  {
   "attachments": {},
   "cell_type": "markdown",
   "metadata": {},
   "source": [
    "Conditional Independence(조건부 독립?)\n",
    "\n",
    "X,Y,Z: random variables, P(X|Y,Z)=P(X|Z)\n",
    "\n",
    "따라서 ${P(X_1,X_2,...X_p|Y) \\cdot P(Y)} =P(X_1|Y) \\cdot P(X_2|Y) \\cdot ... P(X_p|Y) \\cdot P(Y) $"
   ]
  },
  {
   "attachments": {},
   "cell_type": "markdown",
   "metadata": {},
   "source": [
    "문제점: 확률변수의 곱이므로, 하나라도 0이라면? 0으로 간주됨.\n",
    "\n",
    "해결방법: Laplace or m-estimate ->  공통으로 0이 되는 것을 막아줌"
   ]
  },
  {
   "cell_type": "code",
   "execution_count": 15,
   "metadata": {},
   "outputs": [],
   "source": [
    "HomeOwner=['Y','N','N','Y','N','N','Y','N','N','N']\n",
    "M=['Single','Married','Single','Married','Divorced','Married','Divorced','Single','Married','Single']\n",
    "A=['125k','100k','70k','120k','95k','60k','220k','85k','75k','90k']\n",
    "D=['N','N','N','N','Y','N','N','Y','N','Y']\n",
    "data=pd.DataFrame({'Homeowner':HomeOwner,\n",
    "                   'Marital Status':M,\n",
    "                   'Annual Income': A,\n",
    "                   'Defaulted Borrower': D})"
   ]
  },
  {
   "cell_type": "code",
   "execution_count": 16,
   "metadata": {},
   "outputs": [
    {
     "data": {
      "text/html": [
       "<div>\n",
       "<style scoped>\n",
       "    .dataframe tbody tr th:only-of-type {\n",
       "        vertical-align: middle;\n",
       "    }\n",
       "\n",
       "    .dataframe tbody tr th {\n",
       "        vertical-align: top;\n",
       "    }\n",
       "\n",
       "    .dataframe thead th {\n",
       "        text-align: right;\n",
       "    }\n",
       "</style>\n",
       "<table border=\"1\" class=\"dataframe\">\n",
       "  <thead>\n",
       "    <tr style=\"text-align: right;\">\n",
       "      <th></th>\n",
       "      <th>Homeowner</th>\n",
       "      <th>Marital Status</th>\n",
       "      <th>Annual Income</th>\n",
       "      <th>Defaulted Borrower</th>\n",
       "    </tr>\n",
       "  </thead>\n",
       "  <tbody>\n",
       "    <tr>\n",
       "      <th>0</th>\n",
       "      <td>Y</td>\n",
       "      <td>Single</td>\n",
       "      <td>125k</td>\n",
       "      <td>N</td>\n",
       "    </tr>\n",
       "    <tr>\n",
       "      <th>1</th>\n",
       "      <td>N</td>\n",
       "      <td>Married</td>\n",
       "      <td>100k</td>\n",
       "      <td>N</td>\n",
       "    </tr>\n",
       "    <tr>\n",
       "      <th>2</th>\n",
       "      <td>N</td>\n",
       "      <td>Single</td>\n",
       "      <td>70k</td>\n",
       "      <td>N</td>\n",
       "    </tr>\n",
       "    <tr>\n",
       "      <th>3</th>\n",
       "      <td>Y</td>\n",
       "      <td>Married</td>\n",
       "      <td>120k</td>\n",
       "      <td>N</td>\n",
       "    </tr>\n",
       "    <tr>\n",
       "      <th>4</th>\n",
       "      <td>N</td>\n",
       "      <td>Divorced</td>\n",
       "      <td>95k</td>\n",
       "      <td>Y</td>\n",
       "    </tr>\n",
       "  </tbody>\n",
       "</table>\n",
       "</div>"
      ],
      "text/plain": [
       "  Homeowner Marital Status Annual Income Defaulted Borrower\n",
       "0         Y         Single          125k                  N\n",
       "1         N        Married          100k                  N\n",
       "2         N         Single           70k                  N\n",
       "3         Y        Married          120k                  N\n",
       "4         N       Divorced           95k                  Y"
      ]
     },
     "execution_count": 16,
     "metadata": {},
     "output_type": "execute_result"
    }
   ],
   "source": [
    "data.head()"
   ]
  },
  {
   "attachments": {},
   "cell_type": "markdown",
   "metadata": {},
   "source": [
    "Continuous variable일때( 위의 income의 경우)\n",
    "\n",
    "1. bin으로 나누기 -> 독립성 가정에 대한 위반을 할 수 있음\n",
    "2. two-way split -> 정보 손실이 많음\n",
    "3. normal distribution으로 가정"
   ]
  },
  {
   "attachments": {},
   "cell_type": "markdown",
   "metadata": {},
   "source": [
    "test record: X=(Home owner: Yes,Married,Income=120k) Deafaulted Borrower인가? Y/N\n",
    "\n",
    "P(X|DB=No) vs P(X|DB=Yes) 중 더 높은 확률로 예측\n",
    "\n",
    "1. P(Home own: No | DB=No) x P(Married | DB=No) x P(Income=120k | DB=No)\n",
    "2. P(Home own: No | DB=Yes) x P(Married | DB=Yes) x P(Income=120k | DB=Yes)"
   ]
  },
  {
   "cell_type": "code",
   "execution_count": 67,
   "metadata": {},
   "outputs": [
    {
     "data": {
      "text/plain": [
       "1.8366850019098434e-13"
      ]
     },
     "execution_count": 67,
     "metadata": {},
     "output_type": "execute_result"
    }
   ],
   "source": [
    "# P(income=120k| DB= Yes or No) 구하기\n",
    "from scipy.stats import norm\n",
    "\n",
    "data['Annual Income']=data['Annual Income'].str.replace('k','')\n",
    "\n",
    "# DB=No 인 사람들의 경우\n",
    "\n",
    "DB_no=data[data['Defaulted Borrower']=='N']['Annual Income']\n",
    "DB_no=DB_no.astype(int)\n",
    "no_mean=np.mean(DB_no)\n",
    "no_var=np.var(DB_no)\n",
    "\n",
    "dist = norm(loc=no_mean, scale=np.sqrt(no_var))\n",
    "prob_no= dist.pdf(120)\n",
    "\n",
    "# DB=yes인 사람들의 경우\n",
    "\n",
    "DB_yes=data[data['Defaulted Borrower']=='Y']['Annual Income']\n",
    "DB_yes=DB_yes.astype(int)\n",
    "yes_mean=np.mean(DB_yes)\n",
    "yes_var=np.var(DB_yes)\n",
    "\n",
    "dist = norm(loc=yes_mean, scale=np.sqrt(yes_var))\n",
    "prob_yes= dist.pdf(120)\n"
   ]
  },
  {
   "cell_type": "code",
   "execution_count": 69,
   "metadata": {},
   "outputs": [
    {
     "data": {
      "text/plain": [
       "0.0025295793085132836"
      ]
     },
     "execution_count": 69,
     "metadata": {},
     "output_type": "execute_result"
    }
   ],
   "source": [
    "# P(X|DB=No)\n",
    "4/7 * 4/7 * prob_no"
   ]
  },
  {
   "cell_type": "code",
   "execution_count": 70,
   "metadata": {},
   "outputs": [
    {
     "data": {
      "text/plain": [
       "0.0"
      ]
     },
     "execution_count": 70,
     "metadata": {},
     "output_type": "execute_result"
    }
   ],
   "source": [
    "# P(X|DB=Yes), 0이 있기에 0으로 간주됨. -> Laplace사용\n",
    "1 * 0 * prob_yes"
   ]
  }
 ],
 "metadata": {
  "kernelspec": {
   "display_name": "Python 3",
   "language": "python",
   "name": "python3"
  },
  "language_info": {
   "codemirror_mode": {
    "name": "ipython",
    "version": 3
   },
   "file_extension": ".py",
   "mimetype": "text/x-python",
   "name": "python",
   "nbconvert_exporter": "python",
   "pygments_lexer": "ipython3",
   "version": "3.11.3"
  },
  "orig_nbformat": 4
 },
 "nbformat": 4,
 "nbformat_minor": 2
}
