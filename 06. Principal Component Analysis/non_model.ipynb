{
 "cells": [
  {
   "cell_type": "code",
   "execution_count": 2,
   "metadata": {},
   "outputs": [],
   "source": [
    "import numpy as np\n",
    "import matplotlib.pyplot as plt\n",
    "import pandas as pd"
   ]
  },
  {
   "cell_type": "code",
   "execution_count": 3,
   "metadata": {},
   "outputs": [
    {
     "data": {
      "text/html": [
       "<div>\n",
       "<style scoped>\n",
       "    .dataframe tbody tr th:only-of-type {\n",
       "        vertical-align: middle;\n",
       "    }\n",
       "\n",
       "    .dataframe tbody tr th {\n",
       "        vertical-align: top;\n",
       "    }\n",
       "\n",
       "    .dataframe thead th {\n",
       "        text-align: right;\n",
       "    }\n",
       "</style>\n",
       "<table border=\"1\" class=\"dataframe\">\n",
       "  <thead>\n",
       "    <tr style=\"text-align: right;\">\n",
       "      <th></th>\n",
       "      <th>x1</th>\n",
       "      <th>x2</th>\n",
       "      <th>x3</th>\n",
       "    </tr>\n",
       "  </thead>\n",
       "  <tbody>\n",
       "    <tr>\n",
       "      <th>0</th>\n",
       "      <td>8</td>\n",
       "      <td>5</td>\n",
       "      <td>10</td>\n",
       "    </tr>\n",
       "    <tr>\n",
       "      <th>1</th>\n",
       "      <td>4</td>\n",
       "      <td>7</td>\n",
       "      <td>4</td>\n",
       "    </tr>\n",
       "    <tr>\n",
       "      <th>2</th>\n",
       "      <td>5</td>\n",
       "      <td>3</td>\n",
       "      <td>5</td>\n",
       "    </tr>\n",
       "    <tr>\n",
       "      <th>3</th>\n",
       "      <td>3</td>\n",
       "      <td>-1</td>\n",
       "      <td>2</td>\n",
       "    </tr>\n",
       "    <tr>\n",
       "      <th>4</th>\n",
       "      <td>2</td>\n",
       "      <td>5</td>\n",
       "      <td>3</td>\n",
       "    </tr>\n",
       "    <tr>\n",
       "      <th>5</th>\n",
       "      <td>1</td>\n",
       "      <td>-4</td>\n",
       "      <td>7</td>\n",
       "    </tr>\n",
       "    <tr>\n",
       "      <th>6</th>\n",
       "      <td>0</td>\n",
       "      <td>1</td>\n",
       "      <td>11</td>\n",
       "    </tr>\n",
       "    <tr>\n",
       "      <th>7</th>\n",
       "      <td>-1</td>\n",
       "      <td>3</td>\n",
       "      <td>8</td>\n",
       "    </tr>\n",
       "    <tr>\n",
       "      <th>8</th>\n",
       "      <td>-3</td>\n",
       "      <td>-6</td>\n",
       "      <td>6</td>\n",
       "    </tr>\n",
       "    <tr>\n",
       "      <th>9</th>\n",
       "      <td>-5</td>\n",
       "      <td>-4</td>\n",
       "      <td>4</td>\n",
       "    </tr>\n",
       "    <tr>\n",
       "      <th>10</th>\n",
       "      <td>-6</td>\n",
       "      <td>-6</td>\n",
       "      <td>9</td>\n",
       "    </tr>\n",
       "    <tr>\n",
       "      <th>11</th>\n",
       "      <td>-8</td>\n",
       "      <td>-3</td>\n",
       "      <td>1</td>\n",
       "    </tr>\n",
       "  </tbody>\n",
       "</table>\n",
       "</div>"
      ],
      "text/plain": [
       "    x1  x2  x3\n",
       "0    8   5  10\n",
       "1    4   7   4\n",
       "2    5   3   5\n",
       "3    3  -1   2\n",
       "4    2   5   3\n",
       "5    1  -4   7\n",
       "6    0   1  11\n",
       "7   -1   3   8\n",
       "8   -3  -6   6\n",
       "9   -5  -4   4\n",
       "10  -6  -6   9\n",
       "11  -8  -3   1"
      ]
     },
     "execution_count": 3,
     "metadata": {},
     "output_type": "execute_result"
    }
   ],
   "source": [
    "x1=np.array([8,4,5,3,2,1,0,-1,-3,-5,-6,-8])\n",
    "x2=np.array([5,7,3,-1,5,-4,1,3,-6,-4,-6,-3])\n",
    "x3=np.array([10,4,5,2,3,7,11,8,6,4,9,1])\n",
    "\n",
    "data=pd.DataFrame({'x1':x1,'x2':x2,'x3':x3})\n",
    "data\n"
   ]
  },
  {
   "attachments": {},
   "cell_type": "markdown",
   "metadata": {},
   "source": [
    "평균을 0으로, 즉 origin으로 이동"
   ]
  },
  {
   "cell_type": "code",
   "execution_count": 4,
   "metadata": {},
   "outputs": [
    {
     "data": {
      "text/html": [
       "<div>\n",
       "<style scoped>\n",
       "    .dataframe tbody tr th:only-of-type {\n",
       "        vertical-align: middle;\n",
       "    }\n",
       "\n",
       "    .dataframe tbody tr th {\n",
       "        vertical-align: top;\n",
       "    }\n",
       "\n",
       "    .dataframe thead th {\n",
       "        text-align: right;\n",
       "    }\n",
       "</style>\n",
       "<table border=\"1\" class=\"dataframe\">\n",
       "  <thead>\n",
       "    <tr style=\"text-align: right;\">\n",
       "      <th></th>\n",
       "      <th>x1</th>\n",
       "      <th>x2</th>\n",
       "      <th>x3</th>\n",
       "    </tr>\n",
       "  </thead>\n",
       "  <tbody>\n",
       "    <tr>\n",
       "      <th>0</th>\n",
       "      <td>1.738857</td>\n",
       "      <td>1.137147</td>\n",
       "      <td>1.353826</td>\n",
       "    </tr>\n",
       "    <tr>\n",
       "      <th>1</th>\n",
       "      <td>0.869428</td>\n",
       "      <td>1.592006</td>\n",
       "      <td>-0.595683</td>\n",
       "    </tr>\n",
       "    <tr>\n",
       "      <th>2</th>\n",
       "      <td>1.086785</td>\n",
       "      <td>0.682288</td>\n",
       "      <td>-0.270765</td>\n",
       "    </tr>\n",
       "    <tr>\n",
       "      <th>3</th>\n",
       "      <td>0.652071</td>\n",
       "      <td>-0.227429</td>\n",
       "      <td>-1.245520</td>\n",
       "    </tr>\n",
       "    <tr>\n",
       "      <th>4</th>\n",
       "      <td>0.434714</td>\n",
       "      <td>1.137147</td>\n",
       "      <td>-0.920602</td>\n",
       "    </tr>\n",
       "    <tr>\n",
       "      <th>5</th>\n",
       "      <td>0.217357</td>\n",
       "      <td>-0.909718</td>\n",
       "      <td>0.379071</td>\n",
       "    </tr>\n",
       "    <tr>\n",
       "      <th>6</th>\n",
       "      <td>0.000000</td>\n",
       "      <td>0.227429</td>\n",
       "      <td>1.678744</td>\n",
       "    </tr>\n",
       "    <tr>\n",
       "      <th>7</th>\n",
       "      <td>-0.217357</td>\n",
       "      <td>0.682288</td>\n",
       "      <td>0.703989</td>\n",
       "    </tr>\n",
       "    <tr>\n",
       "      <th>8</th>\n",
       "      <td>-0.652071</td>\n",
       "      <td>-1.364576</td>\n",
       "      <td>0.054153</td>\n",
       "    </tr>\n",
       "    <tr>\n",
       "      <th>9</th>\n",
       "      <td>-1.086785</td>\n",
       "      <td>-0.909718</td>\n",
       "      <td>-0.595683</td>\n",
       "    </tr>\n",
       "    <tr>\n",
       "      <th>10</th>\n",
       "      <td>-1.304142</td>\n",
       "      <td>-1.364576</td>\n",
       "      <td>1.028908</td>\n",
       "    </tr>\n",
       "    <tr>\n",
       "      <th>11</th>\n",
       "      <td>-1.738857</td>\n",
       "      <td>-0.682288</td>\n",
       "      <td>-1.570438</td>\n",
       "    </tr>\n",
       "  </tbody>\n",
       "</table>\n",
       "</div>"
      ],
      "text/plain": [
       "          x1        x2        x3\n",
       "0   1.738857  1.137147  1.353826\n",
       "1   0.869428  1.592006 -0.595683\n",
       "2   1.086785  0.682288 -0.270765\n",
       "3   0.652071 -0.227429 -1.245520\n",
       "4   0.434714  1.137147 -0.920602\n",
       "5   0.217357 -0.909718  0.379071\n",
       "6   0.000000  0.227429  1.678744\n",
       "7  -0.217357  0.682288  0.703989\n",
       "8  -0.652071 -1.364576  0.054153\n",
       "9  -1.086785 -0.909718 -0.595683\n",
       "10 -1.304142 -1.364576  1.028908\n",
       "11 -1.738857 -0.682288 -1.570438"
      ]
     },
     "execution_count": 4,
     "metadata": {},
     "output_type": "execute_result"
    }
   ],
   "source": [
    "from sklearn.preprocessing import StandardScaler\n",
    "\n",
    "scaler=StandardScaler()\n",
    "scaled_data=scaler.fit_transform(data)\n",
    "\n",
    "data=pd.DataFrame(scaled_data,columns=data.columns)\n",
    "data\n"
   ]
  },
  {
   "attachments": {},
   "cell_type": "markdown",
   "metadata": {},
   "source": [
    "Cov, cor 만들기"
   ]
  },
  {
   "cell_type": "code",
   "execution_count": 5,
   "metadata": {},
   "outputs": [
    {
     "data": {
      "text/html": [
       "<div>\n",
       "<style scoped>\n",
       "    .dataframe tbody tr th:only-of-type {\n",
       "        vertical-align: middle;\n",
       "    }\n",
       "\n",
       "    .dataframe tbody tr th {\n",
       "        vertical-align: top;\n",
       "    }\n",
       "\n",
       "    .dataframe thead th {\n",
       "        text-align: right;\n",
       "    }\n",
       "</style>\n",
       "<table border=\"1\" class=\"dataframe\">\n",
       "  <thead>\n",
       "    <tr style=\"text-align: right;\">\n",
       "      <th></th>\n",
       "      <th>x1</th>\n",
       "      <th>x2</th>\n",
       "      <th>x3</th>\n",
       "    </tr>\n",
       "  </thead>\n",
       "  <tbody>\n",
       "    <tr>\n",
       "      <th>x1</th>\n",
       "      <td>1.090909</td>\n",
       "      <td>0.813404</td>\n",
       "      <td>0.205450</td>\n",
       "    </tr>\n",
       "    <tr>\n",
       "      <th>x2</th>\n",
       "      <td>0.813404</td>\n",
       "      <td>1.090909</td>\n",
       "      <td>0.026871</td>\n",
       "    </tr>\n",
       "    <tr>\n",
       "      <th>x3</th>\n",
       "      <td>0.205450</td>\n",
       "      <td>0.026871</td>\n",
       "      <td>1.090909</td>\n",
       "    </tr>\n",
       "  </tbody>\n",
       "</table>\n",
       "</div>"
      ],
      "text/plain": [
       "          x1        x2        x3\n",
       "x1  1.090909  0.813404  0.205450\n",
       "x2  0.813404  1.090909  0.026871\n",
       "x3  0.205450  0.026871  1.090909"
      ]
     },
     "execution_count": 5,
     "metadata": {},
     "output_type": "execute_result"
    }
   ],
   "source": [
    "cov=data[['x1','x2','x3']].cov()\n",
    "cov"
   ]
  },
  {
   "cell_type": "code",
   "execution_count": 6,
   "metadata": {},
   "outputs": [
    {
     "data": {
      "text/plain": [
       "array([[1.        , 0.7456203 , 0.18832872],\n",
       "       [0.7456203 , 1.        , 0.02463199],\n",
       "       [0.18832872, 0.02463199, 1.        ]])"
      ]
     },
     "execution_count": 6,
     "metadata": {},
     "output_type": "execute_result"
    }
   ],
   "source": [
    "corr=np.corrcoef([x1,x2,x3])\n",
    "corr\n"
   ]
  },
  {
   "attachments": {},
   "cell_type": "markdown",
   "metadata": {},
   "source": [
    "w 벡터에 내적 값이 가장 크도록, $ Z=w^Tx  $\n",
    "\n",
    "$ Maximize$  $ Var(Z) = V(w^Tx)=w^T\\Sigma w $ , $ w^T w=1 $"
   ]
  },
  {
   "attachments": {},
   "cell_type": "markdown",
   "metadata": {},
   "source": [
    "목적 : Maximise  $ w^T \\Sigma w $\n",
    "\n",
    "제약조건 : $ w^T w=1 $\n",
    "\n",
    "라그랑주 : Z= $ w^T \\Sigma w - \\lambda(w^Tw -1) $"
   ]
  },
  {
   "attachments": {},
   "cell_type": "markdown",
   "metadata": {},
   "source": [
    "미분 해주기\n",
    " 1. $ w^T \\Sigma w $\n",
    "\n",
    "  ###### $ (w_1)^2 S_{11} + (w_2)^2 S_{21}...(w_p)^2 S_{p1} $ 를 w에 대해 미분하면 $ 2*(w_1)S_{11}...2(w_p)S_{p1} $\n",
    "  \n",
    "  #### 즉 , $2\\Sigma w $ 형태이다.\n",
    "\n",
    " 2. $\\lambda(w^Tw-1) $\n",
    "\n",
    "###### $ \\lambda *( (w_{1})^2 +(w_{2})^2 ...(w_{p})^2) $ 를 w에 대해 미분하면   $ 2 \\lambda*(w_1 +w_2 ... w_p)    $\n",
    "\n",
    "즉, $ 2 \\lambda w$ 형태이다.\n",
    "\n"
   ]
  },
  {
   "attachments": {},
   "cell_type": "markdown",
   "metadata": {},
   "source": [
    "$\n",
    "\\frac{\\partial L}{\\partial w} = 2(\\Sigma - \\lambda I)w\n",
    "$\n",
    "\n",
    "\n",
    "w!=0이므로, $ \\Sigma - \\lambda I =0 $ 을 만족한다.\n",
    "\n",
    "이는 고유값, 고유벡터를 구하는 식과 완전히 동일하다."
   ]
  },
  {
   "cell_type": "code",
   "execution_count": 7,
   "metadata": {},
   "outputs": [],
   "source": [
    "eigenvalues,eigenvectors=np.linalg.eig(cov)"
   ]
  },
  {
   "cell_type": "code",
   "execution_count": 8,
   "metadata": {},
   "outputs": [
    {
     "data": {
      "text/plain": [
       "array([1.93659078, 0.25797748, 1.078159  ])"
      ]
     },
     "execution_count": 8,
     "metadata": {},
     "output_type": "execute_result"
    }
   ],
   "source": [
    "eigenvalues"
   ]
  },
  {
   "attachments": {},
   "cell_type": "markdown",
   "metadata": {},
   "source": [
    "고유값이 큰 2개만을 반영해보기\n",
    "\n",
    "\n",
    "고유값이 큰 것은 1.936 과 1.078159이다."
   ]
  },
  {
   "cell_type": "code",
   "execution_count": 15,
   "metadata": {},
   "outputs": [
    {
     "data": {
      "text/plain": [
       "0.921173546754869"
      ]
     },
     "execution_count": 15,
     "metadata": {},
     "output_type": "execute_result"
    }
   ],
   "source": [
    "# 약 92% 설명 가능\n",
    "idx=np.argsort(eigenvalues)[::-1]\n",
    "sum(eigenvalues[idx[:2]])/sum(eigenvalues[idx])"
   ]
  },
  {
   "cell_type": "code",
   "execution_count": 17,
   "metadata": {},
   "outputs": [],
   "source": [
    "# 2개만 반영하여 dot product해주고 plot\n",
    "\n",
    "selected_val=eigenvalues[idx][:2]\n",
    "selected_vec=eigenvectors[:,idx][:,:2]\n",
    "\n",
    "# data: (12,3) , selected_vec : (3,2)\n",
    "new=data@selected_vec"
   ]
  },
  {
   "cell_type": "code",
   "execution_count": 22,
   "metadata": {},
   "outputs": [
    {
     "data": {
      "text/html": [
       "<div>\n",
       "<style scoped>\n",
       "    .dataframe tbody tr th:only-of-type {\n",
       "        vertical-align: middle;\n",
       "    }\n",
       "\n",
       "    .dataframe tbody tr th {\n",
       "        vertical-align: top;\n",
       "    }\n",
       "\n",
       "    .dataframe thead th {\n",
       "        text-align: right;\n",
       "    }\n",
       "</style>\n",
       "<table border=\"1\" class=\"dataframe\">\n",
       "  <thead>\n",
       "    <tr style=\"text-align: right;\">\n",
       "      <th></th>\n",
       "      <th>0</th>\n",
       "      <th>1</th>\n",
       "    </tr>\n",
       "  </thead>\n",
       "  <tbody>\n",
       "    <tr>\n",
       "      <th>0</th>\n",
       "      <td>2.262503</td>\n",
       "      <td>0.985314</td>\n",
       "    </tr>\n",
       "    <tr>\n",
       "      <th>1</th>\n",
       "      <td>1.585327</td>\n",
       "      <td>-0.990936</td>\n",
       "    </tr>\n",
       "    <tr>\n",
       "      <th>2</th>\n",
       "      <td>1.179321</td>\n",
       "      <td>-0.459816</td>\n",
       "    </tr>\n",
       "    <tr>\n",
       "      <th>3</th>\n",
       "      <td>0.063618</td>\n",
       "      <td>-1.170049</td>\n",
       "    </tr>\n",
       "    <tr>\n",
       "      <th>4</th>\n",
       "      <td>0.905744</td>\n",
       "      <td>-1.182459</td>\n",
       "    </tr>\n",
       "  </tbody>\n",
       "</table>\n",
       "</div>"
      ],
      "text/plain": [
       "          0         1\n",
       "0  2.262503  0.985314\n",
       "1  1.585327 -0.990936\n",
       "2  1.179321 -0.459816\n",
       "3  0.063618 -1.170049\n",
       "4  0.905744 -1.182459"
      ]
     },
     "execution_count": 22,
     "metadata": {},
     "output_type": "execute_result"
    }
   ],
   "source": [
    "new.head()"
   ]
  },
  {
   "cell_type": "code",
   "execution_count": 24,
   "metadata": {},
   "outputs": [
    {
     "data": {
      "image/png": "[encoded data removed]",
      "text/plain": [
       "<Figure size 640x480 with 1 Axes>"
      ]
     },
     "metadata": {},
     "output_type": "display_data"
    }
   ],
   "source": [
    "# 기존 데이터 x1,x2,x3 plot\n",
    "from mpl_toolkits.mplot3d import Axes3D\n",
    "\n",
    "fig=plt.figure()\n",
    "ax=fig.add_subplot(111,projection='3d')\n",
    "ax.scatter(data['x1'],data['x2'],data['x3'])\n",
    "plt.show()"
   ]
  },
  {
   "cell_type": "code",
   "execution_count": 28,
   "metadata": {},
   "outputs": [
    {
     "data": {
      "text/plain": [
       "<matplotlib.collections.PathCollection at 0x259fbc4b410>"
      ]
     },
     "execution_count": 28,
     "metadata": {},
     "output_type": "execute_result"
    },
    {
     "data": {
      "image/png": "[encoded data removed]",
      "text/plain": [
       "<Figure size 640x480 with 1 Axes>"
      ]
     },
     "metadata": {},
     "output_type": "display_data"
    }
   ],
   "source": [
    "# x1, x3만 사용하여 x1,x3로 만드는 평면에 위치\n",
    "\n",
    "plt.scatter(new[0],new[1])"
   ]
  }
 ],
 "metadata": {
  "kernelspec": {
   "display_name": "Python 3",
   "language": "python",
   "name": "python3"
  },
  "language_info": {
   "codemirror_mode": {
    "name": "ipython",
    "version": 3
   },
   "file_extension": ".py",
   "mimetype": "text/x-python",
   "name": "python",
   "nbconvert_exporter": "python",
   "pygments_lexer": "ipython3",
   "version": "3.11.3"
  },
  "orig_nbformat": 4
 },
 "nbformat": 4,
 "nbformat_minor": 2
}
